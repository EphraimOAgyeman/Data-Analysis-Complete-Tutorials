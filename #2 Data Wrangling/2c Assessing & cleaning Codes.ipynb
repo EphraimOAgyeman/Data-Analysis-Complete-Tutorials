{
  "nbformat": 4,
  "nbformat_minor": 0,
  "metadata": {
    "colab": {
      "provenance": []
    },
    "kernelspec": {
      "name": "python3",
      "display_name": "Python 3"
    },
    "language_info": {
      "name": "python"
    }
  },
  "cells": [
    {
      "cell_type": "markdown",
      "source": [
        "QWECC\n",
        "\n",
        ">Questions - Either from the Client, or from yourself for research purposes\n",
        "\n",
        ">Wrangle\n",
        "\n",
        ">Explore\n",
        "\n",
        ">Conclusions\n",
        "\n",
        ">Communicate"
      ],
      "metadata": {
        "id": "1SKBjqzQZl0S"
      }
    },
    {
      "cell_type": "markdown",
      "source": [
        "#`Data Wrangling - Gather the data - You need to answer your questions`"
      ],
      "metadata": {
        "id": "AjDG6eNWa9tb"
      }
    },
    {
      "cell_type": "markdown",
      "source": [
        "## Importing of packages"
      ],
      "metadata": {
        "id": "_Mp437w-hTYT"
      }
    },
    {
      "cell_type": "code",
      "source": [
        "import pandas as pd\n",
        "import numpy as np\n",
        "import matplotlib.pyplot as plt\n",
        "import seaborn as sns\n",
        "% matplotlib inline\n",
        "\n",
        "df = pd.read_csv('dataname.csv', sep = ';')\n",
        "\n",
        "df = pd.read_csv('student_scores.csv', index_col='Name')\n",
        "\n",
        "df = pd.read_csv('student_scores.csv', index_col=['Name', 'ID'])\n",
        "\n",
        "# save this for later\n",
        "df.to_csv('cancer_data_edited.csv', index=False)"
      ],
      "metadata": {
        "id": "BffEgoGLhSXa"
      },
      "execution_count": null,
      "outputs": []
    },
    {
      "cell_type": "markdown",
      "source": [
        "#`Data wrangling II - Assess your data - Identifing any problems in your data’s quality or structure.`"
      ],
      "metadata": {
        "id": "Db4xGi0ZhXhc"
      }
    },
    {
      "cell_type": "code",
      "source": [
        "# this returns a tuple of the dimensions of the dataframe\n",
        "\n",
        "df.shape"
      ],
      "metadata": {
        "id": "04YW6FMHhfEq"
      },
      "execution_count": null,
      "outputs": []
    },
    {
      "cell_type": "code",
      "source": [
        "# this returns the datatypes of the columns\n",
        "\n",
        "df.dtypes"
      ],
      "metadata": {
        "id": "LhPK2wtFhf2j"
      },
      "execution_count": null,
      "outputs": []
    },
    {
      "cell_type": "code",
      "source": [
        "# although the datatype for diagnosis appears to be object, further\n",
        "# investigation shows it's a string\n",
        "\n",
        "type(df['diagnosis'][0])"
      ],
      "metadata": {
        "id": "DAysag1ChiO6"
      },
      "execution_count": null,
      "outputs": []
    },
    {
      "cell_type": "code",
      "source": [
        "# this displays a concise summary of the dataframe,\n",
        "# including the number of non-null values in each column\n",
        "\n",
        "df.info()"
      ],
      "metadata": {
        "id": "Hh7Y3ySZhltS"
      },
      "execution_count": null,
      "outputs": []
    },
    {
      "cell_type": "code",
      "source": [
        "# this returns the number of unique values in each column\n",
        "\n",
        "df.nunique()"
      ],
      "metadata": {
        "id": "LTrZHR2DhnOi"
      },
      "execution_count": null,
      "outputs": []
    },
    {
      "cell_type": "code",
      "source": [
        "# this returns useful descriptive statistics for each column of data\n",
        "\n",
        "df.describe()\n",
        "\n",
        "\n",
        "# .describe() bring parts such as mean, std..\n",
        "#you can access them individually by using\n",
        "\n",
        "df.mean()\n",
        "df.std()\n",
        "df.age.mean()"
      ],
      "metadata": {
        "id": "NALh5whdhp9C"
      },
      "execution_count": null,
      "outputs": []
    },
    {
      "cell_type": "code",
      "source": [
        "#this brings out a list of column labels\n",
        "\n",
        "df.columns"
      ],
      "metadata": {
        "id": "izTiHtt4t98k"
      },
      "execution_count": null,
      "outputs": []
    },
    {
      "cell_type": "code",
      "source": [
        "# this returns the first few lines in our dataframe\n",
        "# by default, it returns the first five\n",
        "\n",
        "df.head()"
      ],
      "metadata": {
        "id": "Y--r0WX9hr36"
      },
      "execution_count": null,
      "outputs": []
    },
    {
      "cell_type": "code",
      "source": [
        "# although, you can specify however many rows you'd like returned\n",
        "\n",
        "df.head(20)"
      ],
      "metadata": {
        "id": "EE3cSki6hwFF"
      },
      "execution_count": null,
      "outputs": []
    },
    {
      "cell_type": "code",
      "source": [
        "# same thing applies to `.tail()` which returns the last few rows\n",
        "\n",
        "df.tail(2)"
      ],
      "metadata": {
        "id": "A8nOkl7whx2U"
      },
      "execution_count": null,
      "outputs": []
    },
    {
      "cell_type": "code",
      "source": [
        "# check value counts of a column\n",
        "\n",
        "df['column name'].value_counts()"
      ],
      "metadata": {
        "id": "FaLKjicchzxy"
      },
      "execution_count": null,
      "outputs": []
    },
    {
      "cell_type": "markdown",
      "source": [
        "#`Clean your data -  Modifying, Replacing, Removing data.`"
      ],
      "metadata": {
        "id": "ccJofiE1ddPN"
      }
    },
    {
      "cell_type": "markdown",
      "source": [
        "##Removing empty values"
      ],
      "metadata": {
        "id": "DcNn-kWgiS0L"
      }
    },
    {
      "cell_type": "markdown",
      "source": [
        "Using `isnull()` to give a bool return of empty values. `sum()` is used to add up all empty values in the particular"
      ],
      "metadata": {
        "id": "f2ORXjBaiXfb"
      }
    },
    {
      "cell_type": "code",
      "source": [
        "df.isnull().sum()"
      ],
      "metadata": {
        "id": "WpLZx0zHiTxi"
      },
      "execution_count": null,
      "outputs": []
    },
    {
      "cell_type": "markdown",
      "source": [
        "Using `mean()` to replace empty cells"
      ],
      "metadata": {
        "id": "Jbtr-Nxvif2S"
      }
    },
    {
      "cell_type": "code",
      "source": [
        "mean = df['column_name'].mean()\n",
        "df['column_name'].fillna(mean, inplace = True)"
      ],
      "metadata": {
        "id": "OCdoWGj0igeh"
      },
      "execution_count": null,
      "outputs": []
    },
    {
      "cell_type": "markdown",
      "source": [
        "## Removing duplicates"
      ],
      "metadata": {
        "id": "evvfg4qCiqai"
      }
    },
    {
      "cell_type": "markdown",
      "source": [
        "Using `duplicated()` to find the rows with duplicated"
      ],
      "metadata": {
        "id": "cxQPX0Sji2Rq"
      }
    },
    {
      "cell_type": "code",
      "source": [
        "df.duplicated()"
      ],
      "metadata": {
        "id": "8CI1rBNQisZx"
      },
      "execution_count": null,
      "outputs": []
    },
    {
      "cell_type": "markdown",
      "source": [
        "Using `duplicated()` with `sum()` to find the sum of duplicated"
      ],
      "metadata": {
        "id": "amw3FXHti46a"
      }
    },
    {
      "cell_type": "code",
      "source": [
        "sum(df.duplicated())"
      ],
      "metadata": {
        "id": "Mp-_eokUi61S"
      },
      "execution_count": null,
      "outputs": []
    },
    {
      "cell_type": "code",
      "source": [
        "df.duplicated().sum()"
      ],
      "metadata": {
        "id": "AncbNmeTi8-q"
      },
      "execution_count": null,
      "outputs": []
    },
    {
      "cell_type": "markdown",
      "source": [
        "## Dropping or Removing duplicates"
      ],
      "metadata": {
        "id": "FskyH573jSCz"
      }
    },
    {
      "cell_type": "code",
      "source": [
        "df.drop_duplicates(inplace=True)"
      ],
      "metadata": {
        "id": "eRkxAM5UjWwy"
      },
      "execution_count": null,
      "outputs": []
    },
    {
      "cell_type": "code",
      "source": [
        "# drop rows with any null values in both datasets\n",
        "\n",
        "df.dropna(inplace=True)"
      ],
      "metadata": {
        "id": "NE0bkg1QjaHp"
      },
      "execution_count": null,
      "outputs": []
    },
    {
      "cell_type": "code",
      "source": [
        "# checks if any of columns in 2008 have null values - should print False\n",
        "\n",
        "df.isnull().sum().any()"
      ],
      "metadata": {
        "id": "1qVrkLBqjcIi"
      },
      "execution_count": null,
      "outputs": []
    },
    {
      "cell_type": "markdown",
      "source": [
        "## Deleting columns"
      ],
      "metadata": {
        "id": "ic4F2ItTpgea"
      }
    },
    {
      "cell_type": "code",
      "source": [
        "df.drop(['column_name_1', 'column_name_2', 'column_name_3'], axis=1, inplace=True)"
      ],
      "metadata": {
        "id": "52XuN0gDpkvS"
      },
      "execution_count": null,
      "outputs": []
    },
    {
      "cell_type": "markdown",
      "source": [
        "## Creating new columns"
      ],
      "metadata": {
        "id": "_0D9QA60oDl4"
      }
    },
    {
      "cell_type": "code",
      "source": [
        "df['timestamp'] = pd.to_datetime(df['timestamp'])\n",
        "\n",
        "df_18.cyl = df_18.cyl.astype(int)"
      ],
      "metadata": {
        "id": "HLJcm1xuoU_Q"
      },
      "execution_count": null,
      "outputs": []
    },
    {
      "cell_type": "markdown",
      "source": [
        "## Renaming Columns"
      ],
      "metadata": {
        "id": "1Jw63sQjtzcM"
      }
    },
    {
      "cell_type": "code",
      "source": [
        "df.rename(columns = {'oldname':'newname'}, inplace = True)"
      ],
      "metadata": {
        "id": "0wlgRWDAt3Ik"
      },
      "execution_count": null,
      "outputs": []
    },
    {
      "cell_type": "markdown",
      "source": [
        "Another way"
      ],
      "metadata": {
        "id": "h44VKckqAldv"
      }
    },
    {
      "cell_type": "code",
      "source": [
        "# remove \"_mean\" from column names\n",
        "new_labels = []\n",
        "for col in df.columns:\n",
        "    if '_mean' in col:\n",
        "        new_labels.append(col[:-5])  # exclude last 6 characters\n",
        "    else:\n",
        "        new_labels.append(col)\n",
        "\n",
        "# new labels for our columns\n",
        "new_labels\n",
        "\n",
        "# assign new labels to columns in dataframe\n",
        "df.columns = new_labels\n",
        "\n",
        "# display first few rows of dataframe to confirm changes\n",
        "df.head()"
      ],
      "metadata": {
        "id": "KdkMYtgkAm4H"
      },
      "execution_count": null,
      "outputs": []
    },
    {
      "cell_type": "code",
      "source": [
        "labels = ['id', 'name', 'attendance', 'hw', 'test1', 'project1', 'test2', 'project2', 'final']\n",
        "df = pd.read_csv('student_scores.csv', names=labels)\n",
        "df.head()"
      ],
      "metadata": {
        "id": "Ki1dZXYy5FDU"
      },
      "execution_count": null,
      "outputs": []
    },
    {
      "cell_type": "markdown",
      "source": [
        "## View the index number and label for each column"
      ],
      "metadata": {
        "id": "8WiYf2LlX537"
      }
    },
    {
      "cell_type": "code",
      "source": [
        "# View the index number and label for each column\n",
        "for i, v in enumerate(df.columns):\n",
        "    print(i, v)"
      ],
      "metadata": {
        "id": "xtzQgEZ2XzvJ"
      },
      "execution_count": null,
      "outputs": []
    },
    {
      "cell_type": "markdown",
      "source": [
        "## Changing datatypes\n"
      ],
      "metadata": {
        "id": "RcDe93ursNCP"
      }
    },
    {
      "cell_type": "markdown",
      "source": [
        "### Extracting int from string"
      ],
      "metadata": {
        "id": "ufklMnRZ8Yjx"
      }
    },
    {
      "cell_type": "code",
      "source": [
        "df['column_name'].str.extract('(\\d+)').astype(int)"
      ],
      "metadata": {
        "id": "4o19ofct8dPI"
      },
      "execution_count": null,
      "outputs": []
    },
    {
      "cell_type": "markdown",
      "source": [
        "## LAMBDA functions"
      ],
      "metadata": {
        "id": "h7pSMWMZ-94S"
      }
    },
    {
      "cell_type": "markdown",
      "source": [
        "Using lambda functions to split columns"
      ],
      "metadata": {
        "id": "urrideSDADTH"
      }
    },
    {
      "cell_type": "code",
      "source": [
        "# create two copies of the 2008 hybrids dataframe\n",
        "df1 = hb_08.copy()  # data on first fuel type of each hybrid vehicle\n",
        "df2 = hb_08.copy()  # data on second fuel type of each hybrid vehicle\n",
        "\n",
        "# Each one should look like this\n",
        "df1\n",
        "\n",
        "# columns to split by \"/\"\n",
        "split_columns = ['fuel', 'air_pollution_score', 'city_mpg', 'hwy_mpg', 'cmb_mpg', 'greenhouse_gas_score']\n",
        "\n",
        "# apply split function to each column of each dataframe copy\n",
        "for c in split_columns:\n",
        "    df1[c] = df1[c].apply(lambda x: x.split(\"/\")[0])\n",
        "    df2[c] = df2[c].apply(lambda x: x.split(\"/\")[1])\n",
        "\n",
        "     combine dataframes to add to the original dataframe\n",
        "new_rows = df1.append(df2)\n",
        "\n",
        "# now we have separate rows for each fuel type of each vehicle!\n",
        "new_rows"
      ],
      "metadata": {
        "id": "1pIWUgqUAA9Y"
      },
      "execution_count": null,
      "outputs": []
    },
    {
      "cell_type": "markdown",
      "source": [
        "Upper to lower case"
      ],
      "metadata": {
        "id": "NpriimBFDIXB"
      }
    },
    {
      "cell_type": "code",
      "source": [
        "# replace spaces with underscores and lowercase labels for 2008 dataset\n",
        "df_08.rename(columns=lambda x: x.strip().lower().replace(\" \", \"_\"), inplace=True)\n",
        "\n",
        "# confirm changes\n",
        "df_08.head(1)"
      ],
      "metadata": {
        "id": "mTY68uCIDMW5"
      },
      "execution_count": null,
      "outputs": []
    },
    {
      "cell_type": "markdown",
      "source": [
        "Rename Columns"
      ],
      "metadata": {
        "id": "0vm8lOmX4JWK"
      }
    },
    {
      "cell_type": "code",
      "source": [
        "# rename 2008 columns\n",
        "df_08.rename(columns=lambda x: x[:10] + \"_2008\", inplace=True)"
      ],
      "metadata": {
        "id": "zE9uBvVa4IBl"
      },
      "execution_count": null,
      "outputs": []
    },
    {
      "cell_type": "markdown",
      "source": [
        "## Making checks"
      ],
      "metadata": {
        "id": "jMp3NCViAXby"
      }
    },
    {
      "cell_type": "code",
      "source": [
        "# check that all the original hybrid rows with \"/\"s are gone\n",
        "\n",
        "df[df['column_name'].str.contains('/')]"
      ],
      "metadata": {
        "id": "dW7sC3rTAaqI"
      },
      "execution_count": null,
      "outputs": []
    },
    {
      "cell_type": "code",
      "source": [
        "df_08.columns == df_18.columns"
      ],
      "metadata": {
        "id": "m2hdL6KxDWMJ"
      },
      "execution_count": null,
      "outputs": []
    },
    {
      "cell_type": "code",
      "source": [
        "# make sure they're all identical like this\n",
        "(df_08.columns == df_18.columns).all()"
      ],
      "metadata": {
        "id": "31LWr8S9DadB"
      },
      "execution_count": null,
      "outputs": []
    },
    {
      "cell_type": "markdown",
      "source": [
        "#`Visualizations - and models.`"
      ],
      "metadata": {
        "id": "ZfnG8StEbRC7"
      }
    },
    {
      "cell_type": "markdown",
      "source": [
        "## numpy"
      ],
      "metadata": {
        "id": "ogX6L1y-9wfu"
      }
    },
    {
      "cell_type": "markdown",
      "source": [
        "Using the `repeat()` in numpy"
      ],
      "metadata": {
        "id": "GXtRyqd-96rO"
      }
    },
    {
      "cell_type": "code",
      "source": [
        "color_red = np.repeat('red', 1599)\n",
        "\n",
        "# create color array for white dataframe\n",
        "color_white = np.repeat('white', 4898)\n",
        "\n",
        "red_df['color'] = color_red\n",
        "red_df.head()"
      ],
      "metadata": {
        "id": "HGu5VIgu9zhA"
      },
      "execution_count": null,
      "outputs": []
    },
    {
      "cell_type": "markdown",
      "source": [
        "## Queries"
      ],
      "metadata": {
        "id": "xvKBS15KlZ1D"
      }
    },
    {
      "cell_type": "code",
      "source": [
        "df_m = df[df['diagnosis'] == 'M']\n",
        "df_m.head()\n",
        "\n",
        "# sales on march 13, 2016\n",
        "df_m = df[df['week'] == '2016-03-13']\n",
        "df_m\n",
        "\n",
        "# worst week for store C\n",
        "df_v = df[df['storeC'] == 927]\n",
        "df_v\n",
        "\n",
        "# selecting malignant records in cancer data\n",
        "df_m = df[df['diagnosis'] == 'M']\n",
        "df_m = df.query('diagnosis == \"M\"')\n",
        "\n",
        "# selecting records of people making over $50K\n",
        "df_a = df[df['income'] == ' >50K']\n",
        "df_a = df.query('income == \" >50K\"')\n",
        "\n",
        "# selecting records in cancer data with radius greater than the median\n",
        "df_h = df[df['radius'] > 13.375]\n",
        "df_h = df.query('radius > 13.375')"
      ],
      "metadata": {
        "id": "7D1EncurlgZp"
      },
      "execution_count": null,
      "outputs": []
    },
    {
      "cell_type": "markdown",
      "source": [
        "## Group By"
      ],
      "metadata": {
        "id": "mWm52xYJq6KK"
      }
    },
    {
      "cell_type": "code",
      "source": [
        "df.mean()\n",
        "\n",
        "df.groupby('quality').mean()\n",
        "\n",
        "df.groupby(['quality', 'color'], as_index=False)['pH'].mean()\n",
        "\n",
        "# Find the mean quality of each wine type (red and white) with groupby\n",
        "df.groupby(['color']) ['quality'].mean()"
      ],
      "metadata": {
        "id": "JrCN6MeQq9EI"
      },
      "execution_count": null,
      "outputs": []
    },
    {
      "cell_type": "markdown",
      "source": [
        "## Combining datasets"
      ],
      "metadata": {
        "id": "iY3aqlnt-GDn"
      }
    },
    {
      "cell_type": "markdown",
      "source": [
        "Using the `append()` method in pandas to merge datasets"
      ],
      "metadata": {
        "id": "faRhFIIS-bd4"
      }
    },
    {
      "cell_type": "code",
      "source": [
        "# append dataframes\n",
        "df_full = df_part_a.append(df_part_b, ignore_index = True)\n",
        "# view dataframe to check for success\n",
        "df_full.info()"
      ],
      "metadata": {
        "id": "LpK4mXks-IpH"
      },
      "execution_count": null,
      "outputs": []
    },
    {
      "cell_type": "markdown",
      "source": [
        "## Using the `hist()` function and `figsize()`"
      ],
      "metadata": {
        "id": "BmSEgps8lqTh"
      }
    },
    {
      "cell_type": "code",
      "source": [
        "df.hist()\n",
        "\n",
        "df.hist(figsize = (n,n));\n",
        "\n",
        "#The hist on a specific column in the dataset\n",
        "df['column_name'].hist();\n",
        "\n",
        "#Generalizing the plot\n",
        "df['age'].plot(kind = 'hist');"
      ],
      "metadata": {
        "id": "_EVVdegHl30x"
      },
      "execution_count": null,
      "outputs": []
    },
    {
      "cell_type": "markdown",
      "source": [
        "Decorating Histograms"
      ],
      "metadata": {
        "id": "b1V1wYYUZ_QB"
      }
    },
    {
      "cell_type": "code",
      "source": [
        "import pandas as pd\n",
        "import matplotlib.pyplot as plt\n",
        "import seaborn as sns\n",
        "% matplotlib inline\n",
        "\n",
        "wine_df = pd.read_csv('winequality.csv')\n",
        "wine_df.head()\n",
        "colors = ['red', 'white']\n",
        "color_means =wine_df.groupby('color')['quality'].mean()\n",
        "color_means.plot(kind='bar', title='Average Wine Quality by Color', color=colors, alpha=.7);\n",
        "plt.xlabel('Colors', fontsize=18)\n",
        "plt.ylabel('Quality', fontsize=18)"
      ],
      "metadata": {
        "id": "qkOCnJu1aBz-"
      },
      "execution_count": null,
      "outputs": []
    },
    {
      "cell_type": "markdown",
      "source": [
        "## Using the `pie`, `bar`"
      ],
      "metadata": {
        "id": "ryTrpM3zmERJ"
      }
    },
    {
      "cell_type": "code",
      "source": [
        "df['column_name'].plot(kind = 'box');\n",
        "\n",
        "df['education'].value_counts().plot(kind='bar');\n",
        "\n",
        "df['workclass'].value_counts().plot(kind='pie', figsize= (8,8));"
      ],
      "metadata": {
        "id": "HiRU9KZimvHI"
      },
      "execution_count": null,
      "outputs": []
    },
    {
      "cell_type": "markdown",
      "source": [
        "## Using `scatterplot`"
      ],
      "metadata": {
        "id": "-iQmAZcbncpN"
      }
    },
    {
      "cell_type": "code",
      "source": [
        "# general plotting of the whole data\n",
        "pd.plotting.scatter_matrix(df, figsize = (15,15));\n",
        "\n",
        "#using two columns of your choice to plot a scatter matrix\n",
        "df.plot(x='compactness', y= 'concavity', kind = 'scatter');"
      ],
      "metadata": {
        "id": "2IRUhN56nm0w"
      },
      "execution_count": null,
      "outputs": []
    },
    {
      "cell_type": "markdown",
      "source": [
        "## Standardizing plots"
      ],
      "metadata": {
        "id": "Tek_0U4N9a8f"
      }
    },
    {
      "cell_type": "code",
      "source": [
        "ind = df_a['education'].value_counts().index\n",
        "df_a['education'].value_counts()[ind].plot(kind = 'bar')"
      ],
      "metadata": {
        "id": "9TLqhUYQ9e3h"
      },
      "execution_count": null,
      "outputs": []
    },
    {
      "cell_type": "markdown",
      "source": [
        "## Matplotlib "
      ],
      "metadata": {
        "id": "PlYJ4dY7YUvx"
      }
    },
    {
      "cell_type": "code",
      "source": [
        "import matplotlib.pyplot as plt\n",
        "% matplotlib inline\n",
        "\n",
        "plt.bar([1, 2, 3], [224, 620, 425]);\n",
        "\n",
        "# plot bars\n",
        "plt.bar([1, 2, 3], [224, 620, 425])\n",
        "\n",
        "# specify x coordinates of tick labels and their labels\n",
        "plt.xticks([1, 2, 3], ['a', 'b', 'c']);\n",
        "\n",
        "# plot bars with x tick labels\n",
        "plt.bar([1, 2, 3], [224, 620, 425], tick_label=['a', 'b', 'c']);\n",
        "\n",
        "#Set the title and label axes like this.\n",
        "plt.bar([1, 2, 3], [224, 620, 425], tick_label=['a', 'b', 'c'])\n",
        "plt.title('Some Title')\n",
        "plt.xlabel('Some X Label')\n",
        "plt.ylabel('Some Y Label');"
      ],
      "metadata": {
        "id": "M7z-TRrHYYJC"
      },
      "execution_count": null,
      "outputs": []
    },
    {
      "cell_type": "code",
      "source": [
        "alt_08 = df_08.query('fuel in [\"CNG\", \"ethanol\"]').model.nunique()\n",
        "alt_08\n",
        "\n",
        "alt_18 = df_18.query('fuel in [\"Ethanol\", \"Electricity\"]').model.nunique()\n",
        "alt_18\n",
        "\n",
        "plt.bar([\"2008\", \"2018\"], [alt_08, alt_18])\n",
        "plt.title(\"Number of Unique Models Using Alternative Fuels\")\n",
        "plt.xlabel(\"Year\")\n",
        "plt.ylabel(\"Number of Unique Models\");"
      ],
      "metadata": {
        "id": "X3ukp0Hm5Xly"
      },
      "execution_count": null,
      "outputs": []
    },
    {
      "cell_type": "code",
      "source": [
        "#Let's look at the average fuel economy for each vehicle class for both years.\n",
        "\n",
        "veh_08 = df_08.groupby('veh_class').cmb_mpg.mean()\n",
        "veh_08\n",
        "\n",
        "veh_18 = df_18.groupby('veh_class').cmb_mpg.mean()\n",
        "veh_18\n",
        "\n",
        "# how much they've increased by for each vehicle class\n",
        "inc = veh_18 - veh_08\n",
        "inc\n",
        "\n",
        "# only plot the classes that exist in both years\n",
        "inc.dropna(inplace=True)\n",
        "plt.subplots(figsize=(8, 5))\n",
        "plt.bar(inc.index, inc)\n",
        "plt.title('Improvements in Fuel Economy from 2008 to 2018 by Vehicle Class')\n",
        "plt.xlabel('Vehicle Class')\n",
        "plt.ylabel('Increase in Average Combined MPG');"
      ],
      "metadata": {
        "id": "2KxuKwuQ5f_Z"
      },
      "execution_count": null,
      "outputs": []
    },
    {
      "cell_type": "markdown",
      "source": [
        "## Merging"
      ],
      "metadata": {
        "id": "LHC4qfmS5r86"
      }
    },
    {
      "cell_type": "markdown",
      "source": [
        "Types of Merges"
      ],
      "metadata": {
        "id": "yO9Dcjnk5y1a"
      }
    },
    {
      "cell_type": "markdown",
      "source": [
        "**Here are the four types of merges in pandas.**\n",
        "\n",
        ">Below, \"key\" refers to common columns in both dataframes that we're joining on.\n",
        "\n",
        ">Inner Join - Use intersection of keys from both frames. \n",
        "\n",
        ">Outer Join - Use union of keys from both frames. \n",
        "\n",
        ">Left Join - Use keys from left frame only. \n",
        "\n",
        ">Right Join - Use keys from right frame only."
      ],
      "metadata": {
        "id": "WSD8Z3eh53vK"
      }
    },
    {
      "cell_type": "markdown",
      "source": [
        "Use Pandas Merges to create a combined dataset from `clean_08.csv` and `clean_18.csv`."
      ],
      "metadata": {
        "id": "todxcdnL6OUJ"
      }
    },
    {
      "cell_type": "code",
      "source": [
        "# merge datasets\n",
        "df_combined = df_08.merge(df_18, left_on='model_2008', right_on='model', how='inner')\n",
        "\n",
        "# view to check merge\n",
        "df_combined.head()"
      ],
      "metadata": {
        "id": "U1cepO9o5t1a"
      },
      "execution_count": null,
      "outputs": []
    },
    {
      "cell_type": "markdown",
      "source": [
        "#`Draw conclusions - even make predictions.`"
      ],
      "metadata": {
        "id": "RYEScgoCb2tM"
      }
    },
    {
      "cell_type": "code",
      "source": [],
      "metadata": {
        "id": "I_QEyhqkg8FC"
      },
      "execution_count": null,
      "outputs": []
    },
    {
      "cell_type": "markdown",
      "source": [
        "# `Questions`"
      ],
      "metadata": {
        "id": "zdEn3jhxtHiZ"
      }
    },
    {
      "cell_type": "markdown",
      "source": [
        "### What level of acidity receives the highest average rating?"
      ],
      "metadata": {
        "id": "7QvtjX_-tWzY"
      }
    },
    {
      "cell_type": "code",
      "source": [
        "# View the min, 25%, 50%, 75%, max pH values with Pandas describe\n",
        "df.describe().pH\n",
        "\n",
        "# Bin edges that will be used to \"cut\" the data into groups\n",
        "categories = [2.72, 3.11, 3.21, 3.32, 4.01] # Fill in this list with five values you just found\n",
        "\n",
        "# Labels for the four acidity level groups\n",
        "catergory_labels = ['high', 'mod_high', 'medium', 'low'] # Name each acidity level category\n",
        "\n",
        "# Creates acidity_levels column\n",
        "df['acidity_levels'] = pd.cut(df['pH'], categories, labels=catergory_labels)\n",
        "\n",
        "# Checks for successful creation of this column\n",
        "df.head()\n",
        "\n",
        "# Find the mean quality of each acidity level with groupby\n",
        "df.groupby('acidity_levels').mean().quality"
      ],
      "metadata": {
        "id": "CDi_82NwtTRR"
      },
      "execution_count": null,
      "outputs": []
    },
    {
      "cell_type": "markdown",
      "source": [
        "### Do wines with higher alcoholic content receive better ratings?"
      ],
      "metadata": {
        "id": "ZCLxvplQmnFr"
      }
    },
    {
      "cell_type": "code",
      "source": [
        "# get the median amount of alcohol content\n",
        "df.alcohol.median()\n",
        "\n",
        "# select samples with alcohol content less than the median\n",
        "low_alcohol = df.query('alcohol < 10.3')\n",
        "\n",
        "# select samples with alcohol content greater than or equal to the median\n",
        "high_alcohol = df.query('alcohol >= 10.3')\n",
        "\n",
        "# ensure these queries included each sample exactly once\n",
        "num_samples = df.shape[0]\n",
        "num_samples == low_alcohol['quality'].count() + high_alcohol['quality'].count() # should be True\n",
        "\n",
        "# get mean quality rating for the low alcohol and high alcohol groups\n",
        "low_alcohol.quality.mean()\n",
        "\n",
        "high_alcohol.quality.mean()\n"
      ],
      "metadata": {
        "id": "iuxzEbPwmrBq"
      },
      "execution_count": null,
      "outputs": []
    },
    {
      "cell_type": "markdown",
      "source": [
        "Another Solution"
      ],
      "metadata": {
        "id": "mHA1rRHeCmDw"
      }
    },
    {
      "cell_type": "code",
      "source": [
        "# Import necessary packages and load `winequality_edited.csv`\n",
        "import pandas as pd\n",
        "import matplotlib.pyplot as plt\n",
        "\n",
        "df = pd.read_csv('winequality_edited.csv')\n",
        "\n",
        "# Use query to select each group and get its mean quality\n",
        "alcohol_median = df.alcohol.median()\n",
        "low_alcohol_df = df.query('alcohol < {}'.format(alcohol_median))\n",
        "high_alcohol_df = df.query('alcohol >= {}'.format(alcohol_median))\n",
        "\n",
        "meanQuality_lowAlcohol_df = low_alcohol_df.quality.mean()\n",
        "meanQuality_highAlcohol_df = high_alcohol_df.quality.mean()\n",
        "\n",
        "# Create a bar chart with proper labels\n",
        "x = [1, 2]\n",
        "y = [meanQuality_lowAlcohol_df, meanQuality_highAlcohol_df]\n",
        "x_labels = ['Low', 'High']\n",
        "plt.bar(x, y, tick_label=x_labels)\n",
        "plt.title('Average Quality Ratings by Alcohol Content')\n",
        "plt.xlabel('Alcohol Content')\n",
        "plt.ylabel('Average Quality Rating');"
      ],
      "metadata": {
        "id": "xN-6nJPlCosJ"
      },
      "execution_count": null,
      "outputs": []
    },
    {
      "cell_type": "markdown",
      "source": [
        "### Do sweeter wines receive better ratings?"
      ],
      "metadata": {
        "id": "j8lPJUs6nAX7"
      }
    },
    {
      "cell_type": "code",
      "source": [
        "# get the median amount of residual sugar\n",
        "df.residual_sugar.median()\n",
        "\n",
        "# select samples with residual sugar less than the median\n",
        "low_sugar = df.query('residual_sugar < 3.0')\n",
        "\n",
        "# select samples with residual sugar greater than or equal to the median\n",
        "high_sugar = df.query('residual_sugar >= 3.0')\n",
        "\n",
        "# ensure these queries included each sample exactly once\n",
        "num_samples == low_sugar['quality'].count() + high_sugar['quality'].count() # should be True\n",
        "\n",
        "# get mean quality rating for the low sugar and high sugar groups\n",
        "low_sugar.quality.mean()\n",
        "\n",
        "high_sugar.quality.mean()"
      ],
      "metadata": {
        "id": "Qgo58OyanCoC"
      },
      "execution_count": null,
      "outputs": []
    },
    {
      "cell_type": "markdown",
      "source": [
        "### For all of the models that were produced in 2008 that are still being produced now, how much has the mpg improved and which vehicle improved the most?"
      ],
      "metadata": {
        "id": "-SahMHUR6dOU"
      }
    },
    {
      "cell_type": "markdown",
      "source": [
        "*Remember to use your new dataset, `combined_dataset.csv`. You should've created this data file in the previous section: *Merging Datasets*.*"
      ],
      "metadata": {
        "id": "FX6ouskT6n7S"
      }
    },
    {
      "cell_type": "code",
      "source": [
        "# load datasets\n",
        "import pandas as pd\n",
        "\n",
        "df_08 = pd.read_csv('clean_08.csv')\n",
        "df_18 = pd.read_csv('clean_18.csv')\n",
        "\n"
      ],
      "metadata": {
        "id": "UsL5hpRN6ioN"
      },
      "execution_count": null,
      "outputs": []
    },
    {
      "cell_type": "markdown",
      "source": [
        "1. Create a new dataframe, model_mpg, that contain the mean combined mpg values in 2008 and 2018 for each unique model\n",
        "To do this, group by model and find the mean cmb_mpg_2008 and mean cmb_mpg for each.\n",
        "\n"
      ],
      "metadata": {
        "id": "kHYqHlir6wmC"
      }
    },
    {
      "cell_type": "code",
      "source": [
        "model_mpg = df.groupby('model').mean()[['cmb_mpg_2008', 'cmb_mpg']]\n",
        "model_mpg.head()"
      ],
      "metadata": {
        "id": "7XbP-PSL6xrC"
      },
      "execution_count": null,
      "outputs": []
    },
    {
      "cell_type": "markdown",
      "source": [
        "2. Create a new column, mpg_change, with the change in mpg\n",
        "Subtract the mean mpg in 2008 from that in 2018 to get the change in mpg"
      ],
      "metadata": {
        "id": "DHYhxSu161Nc"
      }
    },
    {
      "cell_type": "code",
      "source": [
        "model_mpg['mpg_change'] = model_mpg['cmb_mpg'] - model_mpg['cmb_mpg_2008']\n",
        "model_mpg.head()"
      ],
      "metadata": {
        "id": "-Iopou-S63ND"
      },
      "execution_count": null,
      "outputs": []
    },
    {
      "cell_type": "markdown",
      "source": [
        "3. Find the vehicle that improved the most\n",
        "Find the max mpg change, and then use query or indexing to see what model it is!"
      ],
      "metadata": {
        "id": "DaWthkbp68Oq"
      }
    },
    {
      "cell_type": "code",
      "source": [
        "max_change = model_mpg['mpg_change'].max()\n",
        "max_change\n",
        "\n",
        "model_mpg[model_mpg['mpg_change'] == max_change]"
      ],
      "metadata": {
        "id": "nLnoK4Ib6-5h"
      },
      "execution_count": null,
      "outputs": []
    },
    {
      "cell_type": "markdown",
      "source": [
        "Pandas also has a useful [`idxmax`](https://pandas.pydata.org/pandas-docs/stable/generated/pandas.DataFrame.idxmax.html) function you can use to find the index of the row containing a column's maximum value!"
      ],
      "metadata": {
        "id": "yk7zzvEH7FAi"
      }
    },
    {
      "cell_type": "code",
      "source": [
        "idx = model_mpg.mpg_change.idxmax()\n",
        "idx\n",
        "\n",
        "model_mpg.loc[idx]"
      ],
      "metadata": {
        "id": "_J21kL577Gmi"
      },
      "execution_count": null,
      "outputs": []
    }
  ]
}